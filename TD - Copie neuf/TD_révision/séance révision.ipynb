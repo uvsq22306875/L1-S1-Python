{
 "cells": [
  {
   "cell_type": "markdown",
   "metadata": {},
   "source": [
    "## Exercice 1\n",
    "\n",
    "Supposons que vous shoutait developper un programme permettant a un éléve de 1er année de s'entrainer a la soustraction.\n",
    "Le programme génére aléatoirement deux entier de un seul chiffre, nombre 1 et nombre 2 avec nombre 1 >= nombre 2 et pose la question \"que vaut ... ?\" le programme affiche ensuite si c'est la bonne reponse.\n",
    "\n",
    "Ecrire un programmme qui génére 5 question, donne le nombre de bonne reponse et le temps passé sur le test. [time.(time)]"
   ]
  },
  {
   "cell_type": "code",
   "execution_count": null,
   "metadata": {},
   "outputs": [],
   "source": []
  },
  {
   "cell_type": "markdown",
   "metadata": {},
   "source": [
    "## Exercice 2\n",
    "L'utilisateur joue 1 fois si il veut rejouer il doit taper Y"
   ]
  },
  {
   "cell_type": "code",
   "execution_count": null,
   "metadata": {},
   "outputs": [],
   "source": [
    "\n",
    "   "
   ]
  },
  {
   "cell_type": "markdown",
   "metadata": {},
   "source": [
    "## Exercie 3 \n",
    "\n",
    "Ecrire un programme qui affiche 10 nombre par ligne, tout les nombre de 100 a 1000 divisible par 5 et par 6, les nombre sont sépare par 1 escpace "
   ]
  },
  {
   "cell_type": "code",
   "execution_count": null,
   "metadata": {},
   "outputs": [],
   "source": []
  },
  {
   "cell_type": "markdown",
   "metadata": {},
   "source": [
    "## Exercie 4\n",
    "\n",
    "Ecrire un programme qui joue au jeu pierre, papier, ciseaux.\n",
    "Le programme génére aleatoirement 0,1,2 représentant ciseaux pierre et papier l'utilisateur tape 0,1,2 puis on affiche si on a perdu, gagné ou fait match nul. \n",
    "le programme permet de joue en continue tant que aucun des deux a gagné plus de deux fois."
   ]
  },
  {
   "cell_type": "markdown",
   "metadata": {},
   "source": [
    "## Exercie 5\n",
    "\n",
    "Exercice 5 : Écrivez un programme pour vérifier la validité des mots de passe saisis par les utilisateurs.\n",
    "\n",
    "    -Au moins 1 lettre entre [a-z] et 1 lettre entre [A-Z].\n",
    "    -Au moins 1 chiffre entre [0-9].\n",
    "    -Au moins 1 caractère parmi [$#@].\n",
    "    -Longueur minimale de 6 caractères.\n",
    "    -Longueur maximale de 16 caractères.\n",
    "    \n",
    "La fonction re.search() du module re en Python est utilisée pour rechercher un motif (expression régulière) dans une chaîne de caractères. Voici la syntaxe simplifiée de re.search() : re.search(pattern, string)\n",
    "\n",
    "    -pattern : C'est le motif (expression régulière) que vous souhaitez rechercher dans la chaîne de caractères.\n",
    "    -string : C'est la chaîne de caractères dans laquelle vous souhaitez effectuer la recherche.\n",
    "    \n",
    "La fonction re.search() renvoie un objet de correspondance (match object) si le motif est trouvé dans la chaîne de caractères. Si le motif n'est pas trouvé, elle renvoie None.    \n"
   ]
  },
  {
   "cell_type": "code",
   "execution_count": null,
   "metadata": {},
   "outputs": [
    {
     "name": "stdout",
     "output_type": "stream",
     "text": [
      "il faut au moin une lettre de l'alphabet en minuscule et une en majuscule\n"
     ]
    }
   ],
   "source": []
  }
 ],
 "metadata": {
  "kernelspec": {
   "display_name": "base",
   "language": "python",
   "name": "python3"
  },
  "language_info": {
   "codemirror_mode": {
    "name": "ipython",
    "version": 3
   },
   "file_extension": ".py",
   "mimetype": "text/x-python",
   "name": "python",
   "nbconvert_exporter": "python",
   "pygments_lexer": "ipython3",
   "version": "3.11.5"
  },
  "orig_nbformat": 4
 },
 "nbformat": 4,
 "nbformat_minor": 2
}
