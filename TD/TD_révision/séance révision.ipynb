{
 "cells": [
  {
   "cell_type": "markdown",
   "metadata": {},
   "source": [
    "## Exercice 1\n",
    "\n",
    "Supposons que vous shoutait developper un programme permettant a un éléve de 1er année de s'entrainer a la soustraction.\n",
    "Le programme génére aléatoirement deux entier de un seul chiffre, nombre 1 et nombre 2 avec nombre 1 >= nombre 2 et pose la question \"que vaut ... ?\" le programme affiche ensuite si c'est la bonne reponse.\n",
    "\n",
    "Ecrire un programmme qui génére 5 question, donne le nombre de bonne reponse et le temps passé sur le test. [time.(time)]"
   ]
  },
  {
   "cell_type": "code",
   "execution_count": null,
   "metadata": {},
   "outputs": [],
   "source": [
    "import random\n",
    "import time\n",
    "count=0\n",
    "nbq=5\n",
    "correct=0\n",
    "t1=time.time()\n",
    "\n",
    "while count < nbq:\n",
    "    nb1=random.randint(0,9)\n",
    "    nb2=random.randint(0,9)\n",
    "    if nb1 < nb2:\n",
    "        nb1,nb2=nb2,nb1\n",
    "        R=int(input(\"donne reponse a ?\"))\n",
    "        if nb1-nb2==R:\n",
    "            print(\"bonne reponse\")\n",
    "            count = count+1\n",
    "        else:\n",
    "            print(\"faux\")\n",
    "            count= count+1\n",
    "t2=time.time()\n",
    "temps = t2-t1\n",
    "print(count)\n",
    "print(temps)"
   ]
  },
  {
   "cell_type": "markdown",
   "metadata": {},
   "source": [
    "## Exercice 2\n",
    "L'utilisateur joue 1 fois si il veut rejouer il doit taper Y"
   ]
  },
  {
   "cell_type": "code",
   "execution_count": null,
   "metadata": {},
   "outputs": [],
   "source": [
    "x = input (\"si vous voulez une autre question tape Y ou y\")\n",
    "y = x.upper \n",
    "\n",
    "nb1=random.randint(0,9)\n",
    "nb2=random.randint(0,9)\n",
    "if nb1 < nb2:\n",
    "   nb1,nb2=nb2,nb1\n",
    "   R=int(input(\"tape la reponse\"))\n",
    "   if nb1-nb2==R:\n",
    "      print(\"bonne reponse\")\n",
    "   else:\n",
    "      print(\"faux\")\n",
    "   "
   ]
  },
  {
   "cell_type": "markdown",
   "metadata": {},
   "source": [
    "## Exercie 3 \n",
    "\n",
    "Ecrire un programme qui affiche 10 nombre par ligne, tout les nombre de 100 a 1000 divisible par 5 et par 6, les nombre sont sépare par 1 escpace "
   ]
  },
  {
   "cell_type": "code",
   "execution_count": null,
   "metadata": {},
   "outputs": [],
   "source": [
    "count = 0\n",
    "\n",
    "for number in range(100, 1001):\n",
    "    if number % 5 == 0 and number % 6 == 0:\n",
    "        print(number, end=' ')\n",
    "        count += 1\n",
    "    if count == 10:\n",
    "        print()\n",
    "        count = 0 \n"
   ]
  },
  {
   "cell_type": "markdown",
   "metadata": {},
   "source": [
    "## Exercie 4\n",
    "\n",
    "Ecrire un programme qui joue au jeu pierre, papier, ciseaux.\n",
    "Le programme génére aleatoirement 0,1,2 représentant ciseaux pierre et papier l'utilisateur tape 0,1,2 puis on affiche si on a perdu, gagné ou fait match nul. \n",
    "le programme permet de joue en continue tant que aucun des deux a gagné plus de deux fois."
   ]
  },
  {
   "cell_type": "markdown",
   "metadata": {},
   "source": [
    "## Exercie 5\n",
    "\n",
    "Exercice 5 : Écrivez un programme pour vérifier la validité des mots de passe saisis par les utilisateurs.\n",
    "\n",
    "    -Au moins 1 lettre entre [a-z] et 1 lettre entre [A-Z].\n",
    "    -Au moins 1 chiffre entre [0-9].\n",
    "    -Au moins 1 caractère parmi [$#@].\n",
    "    -Longueur minimale de 6 caractères.\n",
    "    -Longueur maximale de 16 caractères.\n",
    "    \n",
    "La fonction re.search() du module re en Python est utilisée pour rechercher un motif (expression régulière) dans une chaîne de caractères. Voici la syntaxe simplifiée de re.search() : re.search(pattern, string)\n",
    "\n",
    "    -pattern : C'est le motif (expression régulière) que vous souhaitez rechercher dans la chaîne de caractères.\n",
    "    -string : C'est la chaîne de caractères dans laquelle vous souhaitez effectuer la recherche.\n",
    "    \n",
    "La fonction re.search() renvoie un objet de correspondance (match object) si le motif est trouvé dans la chaîne de caractères. Si le motif n'est pas trouvé, elle renvoie None.    \n"
   ]
  },
  {
   "cell_type": "code",
   "execution_count": 14,
   "metadata": {},
   "outputs": [
    {
     "name": "stdout",
     "output_type": "stream",
     "text": [
      "il faut au moin une lettre de l'alphabet en minuscule et une en majuscule\n"
     ]
    }
   ],
   "source": [
    "import re\n",
    "\n",
    "mdp = input(\"tape ton mdp\")\n",
    "\n",
    "if 6 > len(mdp) or len(mdp) > 16 :\n",
    "    print (\"votre mdp est trop court ou trop long.\")\n",
    "else : \n",
    "    if re.search('[a-z]',mdp) == None and re.search('[A-Z]',mdp) == None :\n",
    "        print (\"il faut au moin une lettre de l'alphabet en minuscule et une en majuscule\")\n",
    "    elif re.search('[0-9]',mdp) == None :\n",
    "        print (\"il faut au moin un chiffre entre 0 et 9\")\n",
    "    elif re.search('[$#@]',mdp) == None :\n",
    "        print (\"il faut au moin un charactère special\")\n",
    "    else :\n",
    "        print (\"bravo votre mdp est correct\")"
   ]
  }
 ],
 "metadata": {
  "kernelspec": {
   "display_name": "base",
   "language": "python",
   "name": "python3"
  },
  "language_info": {
   "codemirror_mode": {
    "name": "ipython",
    "version": 3
   },
   "file_extension": ".py",
   "mimetype": "text/x-python",
   "name": "python",
   "nbconvert_exporter": "python",
   "pygments_lexer": "ipython3",
   "version": "3.11.5"
  },
  "orig_nbformat": 4
 },
 "nbformat": 4,
 "nbformat_minor": 2
}
