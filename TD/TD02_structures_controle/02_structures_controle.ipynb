{
 "cells": [
  {
   "cell_type": "markdown",
   "metadata": {
    "slideshow": {
     "slide_type": "slide"
    }
   },
   "source": [
    "# TD 2: Les structures de contrôle\n",
    "\n",
    "---\n",
    "\n",
    "## 0. Récupération des nouveaux documents\n",
    "\n",
    "\n",
    "Les sujets de TD ainsi que les supports de cours sont publiés en ligne au fur et à mesure sur l'espace github original [https://github.com/uvsq-info/l1-python](https://github.com/uvsq-info/l1-python). Au moment où vous avez fait le fork de cet espace sur votre espace personnel, il est probable que tous les contenus n'étaient pas présents. Pour compléter votre espace, deux solutions sont possibles:\n",
    "\n",
    "\n",
    "1. (solution à privilégier) aller sur la page du projet original [https://github.com/uvsq-info/l1-python](https://github.com/uvsq-info/l1-python), et cliquer sur le bouton vert `Code` en haut à droite. Choisir `download ZIP`, puis extraire l'ensemble des nouveaux fichiers vers votre projet personnel local. Vous pouvez ensuite sauvegarder ces ajouts dans votre espace github personnel en suivant la procédure habituelle.\n",
    "2. (solution qui présente des risques de conflits entre différentes versions d'un même document) en ligne de commande dans le terminal, en suivant la procédure de la section *Intégrer les mises à jour du projet original* du fichier [README.md](https://github.com/uvsq-info/l1-python/blob/master/README.md#int%C3%A9grer-les-mises-%C3%A0-jour-du-projet-original)\n"
   ]
  },
  {
   "cell_type": "markdown",
   "metadata": {
    "slideshow": {
     "slide_type": "slide"
    }
   },
   "source": [
    "---\n",
    "\n",
    "## 1. Premiers exercices avec les structures conditionnelles\n",
    "\n",
    "**Exercice 1:**\n",
    "\n",
    "1. Soit *num1 = 15* et *num2 = 5*. Ecrire un programme qui affiche *Factors!* si l'un des nombres est un facteur de l'autre (c'est-à-dire qu'il divise l'autre nombre). Si aucun des nombres n'est un facteur de l'autre, le programme n'affiche rien.\n",
    "2. Changer le code que vous avez écrit de telle sorte qu'il affiche toujours *Factors!* si un nombre est un facteur de l'autre, mais qui affiche aussi *Not factors!* si aucun des nombres n'est un facteur de l'autre."
   ]
  },
  {
   "cell_type": "code",
   "execution_count": null,
   "metadata": {
    "slideshow": {
     "slide_type": "notes"
    }
   },
   "outputs": [],
   "source": [
    "num1 = 15\n",
    "num2 = 5\n",
    "\n",
    "if num1 % num2 == 0 or num2 % num1 == 0 : \n",
    "    print (\"Factors!\")\n",
    "else :\n",
    "    print (\"Not factors!\")"
   ]
  },
  {
   "cell_type": "markdown",
   "metadata": {
    "slideshow": {
     "slide_type": "slide"
    }
   },
   "source": [
    "**Exercice 2:**\n",
    "    \n",
    "Soit *state = \"Georgia\"*. Ecrire un programme qui permet d'afficher un message spécifique en fonction de la variable *state* :  \n",
    "* \"School isn't cancelled.\" si nous sommes à New Jersey,  \n",
    "* \"School is postponed.\" si nous sommes à North Carolina,\n",
    "* \"School is cancelled!\" si nous sommes à Georgia,  \n",
    "* \"School's status is unknown\" si nous ne sommes pas dans un des trois états précédemment mentionnés."
   ]
  },
  {
   "cell_type": "code",
   "execution_count": null,
   "metadata": {
    "slideshow": {
     "slide_type": "notes"
    }
   },
   "outputs": [],
   "source": [
    "state = \"Georgia\"\n",
    "\n",
    "if state == \"New Jersey\" :\n",
    "    print (\"School isn't cancelled.\")\n",
    "elif state == \"North Carolina\" :\n",
    "    print(\"School is postponed.\")\n",
    "elif state == \"Georgia\" :\n",
    "    print(\"School is cancelled!\")\n",
    "else :\n",
    "    print(\"School's status is unknown\")"
   ]
  },
  {
   "cell_type": "markdown",
   "metadata": {
    "slideshow": {
     "slide_type": "slide"
    }
   },
   "source": [
    "**Exercice 3:**\n",
    "\n",
    "Ecrire un programme pour découvrir le signe du zodiaque chinois pour une année donnée. Le signe du zodiaque chinois est basé sur un cycle de 12 ans et chaque année de ce cycle est représentée par un animal :\n",
    "* 0: monkey\n",
    "* 1: rooster\n",
    "* 2: dog\n",
    "* 3: pig\n",
    "* 4: rat\n",
    "* 5: ox\n",
    "* 6: tiger\n",
    "* 7: rabbit\n",
    "* 8: dragon\n",
    "* 9: snake\n",
    "* 10: horse\n",
    "* 11: sheep\n",
    "\n",
    "La valeur de l'année % 12 détermine le signe du zodiaque. Par exemple, 1900 est l'année du *rat* puisque 1900 % 12 est 4."
   ]
  },
  {
   "cell_type": "code",
   "execution_count": null,
   "metadata": {
    "slideshow": {
     "slide_type": "notes"
    }
   },
   "outputs": [],
   "source": [
    "année = int(input (\"Tape ton année de naissance\"))\n",
    "if année % 12 == 0 :\n",
    "    print (\"monkey\")\n",
    "elif année % 12 == 1 :\n",
    "    print (\"rooster\")\n",
    "elif année % 12 == 2 :\n",
    "    print (\"dog\")\n",
    "elif année % 12 == 3 :\n",
    "    print (\"pig\")\n",
    "elif année % 12 == 4 :\n",
    "    print (\"rat\")\n",
    "elif année % 12 == 5 :\n",
    "    print (\"ox\")\n",
    "elif année % 12 == 6 :\n",
    "    print (\"tiger\")\n",
    "elif année % 12 == 7 :\n",
    "    print (\"rabbit\")\n",
    "elif année % 12 == 8 :\n",
    "    print (\"dragon\")\n",
    "elif année % 12 == 9 :\n",
    "    print (\"snake\")\n",
    "elif année % 12 == 10 :\n",
    "    print (\"horse\")\n",
    "else :\n",
    "    print (\"sheep\")\n",
    "\n"
   ]
  },
  {
   "cell_type": "code",
   "execution_count": null,
   "metadata": {},
   "outputs": [],
   "source": [
    "année = int(input (\"Tape ton année de naissance\"))\n",
    "x = année % 12\n",
    "if x == 0 :\n",
    "    print (\"monkey\")\n",
    "elif x == 1 :\n",
    "    print (\"rooster\")\n",
    "elif x == 2 :\n",
    "    print (\"dog\")\n",
    "elif x == 3 :\n",
    "    print (\"pig\")\n",
    "elif x == 4 :\n",
    "    print (\"rat\")\n",
    "elif x == 5 :\n",
    "    print (\"ox\")\n",
    "elif x == 6 :\n",
    "    print (\"tiger\")\n",
    "elif x == 7 :\n",
    "    print (\"rabbit\")\n",
    "elif x == 8 :\n",
    "    print (\"dragon\")\n",
    "elif x == 9 :\n",
    "    print (\"snake\")\n",
    "elif x == 10 :\n",
    "    print (\"horse\")\n",
    "else :\n",
    "    print (\"sheep\")\n",
    "\n"
   ]
  },
  {
   "cell_type": "markdown",
   "metadata": {
    "slideshow": {
     "slide_type": "slide"
    }
   },
   "source": [
    "**Exercice 4:**\n",
    "\n",
    "Soit *temperature = -3.7* et *celsius = True*. *celsius* est une variable booléenne qui indique si la température est en Celsius; si c'est *False*, alors la température donnée est en Fahrenheit. Ecrire un premier programme en utilisant *if-else* seulement qui permet d'afficher *Freezing* si les valeurs données représentent une température très basse, et *Not freezing* si ce n'est pas le cas. En Celsius, on considère qu'il fait très froid lorsque la température est inférieure ou égale à 0 degré. En Fahrenheit, on considère qu'il fait très froid lorsque la température est inférieure ou égale à 32 degrés. Proposer une seconde solution en utilisant *if-elif-else* à ce même problème."
   ]
  },
  {
   "cell_type": "code",
   "execution_count": null,
   "metadata": {
    "slideshow": {
     "slide_type": "notes"
    }
   },
   "outputs": [],
   "source": [
    "temperature = -3.7\n",
    "celsius = True\n",
    "\n",
    "if celsius == True and temperature <= 0 or celsius == False and temperature <= 32 :\n",
    "    print (\"Freezing\")\n",
    "else :\n",
    "    print (\"Not freezing\")"
   ]
  },
  {
   "cell_type": "code",
   "execution_count": null,
   "metadata": {},
   "outputs": [],
   "source": [
    "temperature = -3.7\n",
    "celsius = True\n",
    "\n",
    "if celsius == True and temperature <= 0 :\n",
    "    print (\"Freezing\")\n",
    "elif celsius == False and temperature <= 32 :\n",
    "    print (\"Freezing\")\n",
    "else :\n",
    "    print (\"Not freezing\")"
   ]
  },
  {
   "cell_type": "markdown",
   "metadata": {
    "slideshow": {
     "slide_type": "slide"
    }
   },
   "source": [
    "**Exercice 5:**\n",
    "    \n",
    "Ecrire un programme qui permet de déterminer si une année est bissextile ou non en utilisant une seule instruction *if-else*. Une année *A* est bissextile si *A* est divisible par 4. Elle ne l’est cependant pas si *A* est un multiple\n",
    "de 100, à moins que *A* ne soit multiple de 400.    "
   ]
  },
  {
   "cell_type": "code",
   "execution_count": null,
   "metadata": {
    "slideshow": {
     "slide_type": "notes"
    }
   },
   "outputs": [],
   "source": [
    "a = int(input(\"tape l'année\"))\n",
    "\n",
    "if a % 4 == 0 and a % 100 != 0 or a % 400 == 0 :\n",
    "    print (\"l'année est bissextile\")\n",
    "else :\n",
    "    print (\"l'année n'est pas bissextile\")"
   ]
  },
  {
   "cell_type": "markdown",
   "metadata": {},
   "source": [
    "**Exercice +1:**\n",
    "\n",
    "Ecrire un programme qui affiche hello si le nombre entier entré par l'utilisateur est un multiple de 5 sinon il affiche bye bye."
   ]
  },
  {
   "cell_type": "code",
   "execution_count": null,
   "metadata": {},
   "outputs": [],
   "source": [
    "n = int(input(\"tape un nombre entier\"))\n",
    "\n",
    "if n % 5 == 0 :\n",
    "    print (\"hello\")\n",
    "else :\n",
    "    print (\"bye bye\")"
   ]
  },
  {
   "cell_type": "markdown",
   "metadata": {},
   "source": [
    "**Exercice +2:**\n",
    "\n",
    "Ecrire un programme qui accepte 2 nombre et 1 opérateur mathématique et éxecute loperation."
   ]
  },
  {
   "cell_type": "code",
   "execution_count": null,
   "metadata": {},
   "outputs": [],
   "source": [
    "num1 = int(input(\"tape un nombre entier\"))\n",
    "num2 = int(input(\"tape un nombre entier\"))\n",
    "op = input ()\n",
    "\n",
    "if op == \"+\" :\n",
    "    print (num1, \"+\", num2, \"=\", num1 + num2)\n",
    "elif op == \"-\" :\n",
    "    print (num1, \"-\", num2, \"=\", num1 - num2)\n",
    "elif op == \"*\" :\n",
    "    print (num1, \"*\", num2, \"=\", num1 * num2)\n",
    "elif op == \"/\" :\n",
    "    print (num1, \"/\", num2, \"=\", num1 / num2)\n",
    "elif op == \"//\" :\n",
    "    print (num1, \"//\", num2, \"=\", num1 // num2)\n",
    "elif op == \"%\" :\n",
    "    print (num1, \"%\", num2, \"=\", num1 % num2)\n",
    "else : \n",
    "    print (\"error\")\n"
   ]
  },
  {
   "cell_type": "markdown",
   "metadata": {},
   "source": [
    "**Exercice +3:**\n",
    "\n",
    "Ecrire un programme qui accepte l'age, le genre (M, F), le nombre de jour et affiche le salaire par jour si l'age ne figure pas dans lintervalle alors le programme affiche: ce n'est pas un age approprié.\n",
    "                                                                                           \n",
    "18 <= age < 30 et que tu es un homme tu gagne 700 euro par jour                                                \\\n",
    "18 <= age < 30 et que tu es une femme tu gagne 750 euro par jour                                               \\\n",
    "30 <= age <= 40 et que tu es un homme tu gagne 800 euro par jour                                               \\\n",
    "30 <= age <= 40 et que tu es une femme tu gagne 850 euro par jour "
   ]
  },
  {
   "cell_type": "code",
   "execution_count": null,
   "metadata": {},
   "outputs": [],
   "source": [
    "genre = input (\"écrit ton genre\")\n",
    "age = int(input (\"tape ton age\"))\n",
    "nombre_de_jour = int(input (\"tape le nombre de jour de travaille\"))\n",
    "salaire = 0\n",
    "\n",
    "if 18 <= age < 30 and genre == \"M\" :\n",
    "    salaire = 700\n",
    "    print (\"Ton salaire est de: 700 € par jour\")\n",
    "elif 18 <= age < 30 and genre == \"F\" :\n",
    "    salaire = 750\n",
    "    print (\"Ton salaire est de: 750 € par jour\")\n",
    "elif 30<= age <= 40 and genre == \"M\" :\n",
    "    salaire = 800\n",
    "    print (\"Ton salaire est de: 800 € par jour\")\n",
    "elif 30<= age <= 40 and genre == \"F\" :\n",
    "    salaire = 850\n",
    "    print (\"Ton salaire est de: 850 € par jour\")\n",
    "else : \n",
    "    print (\"vous n'avez pas l'age nécessaire\")\n",
    "print (\"En\", nombre_de_jour, \"jour tu a gagné\", salaire * nombre_de_jour, \"€\")"
   ]
  },
  {
   "cell_type": "markdown",
   "metadata": {},
   "source": [
    "---\n",
    "\n",
    "## 2. Premiers exercices avec les structures itératives\n",
    "\n",
    "**Exercice 6:**\n",
    "\n",
    "1. Ecrire un programme qui permet d'afficher tous les nombres entre 1 et 10 (bornes incluses).\n",
    "2. Ecrire un programme se limitant à la boucle *for* qui permet d'afficher tous les nombres pairs entre 1 et 20 (bornes incluses). Proposer une deuxième solution en incluant une structure conditionnelle."
   ]
  },
  {
   "cell_type": "code",
   "execution_count": null,
   "metadata": {},
   "outputs": [],
   "source": [
    "for x in range (1 , 11): \n",
    "    print (x)"
   ]
  },
  {
   "cell_type": "code",
   "execution_count": null,
   "metadata": {},
   "outputs": [],
   "source": [
    "for x in range (2 , 21, 2): \n",
    "    print (x)"
   ]
  },
  {
   "cell_type": "code",
   "execution_count": null,
   "metadata": {},
   "outputs": [],
   "source": [
    "for x in range (1 , 21): \n",
    "    if x % 2 == 0 :\n",
    "        print (x)"
   ]
  },
  {
   "cell_type": "code",
   "execution_count": null,
   "metadata": {},
   "outputs": [],
   "source": [
    "for x in range (1 , 21): \n",
    "    if x % 2 != 0 :\n",
    "        continue\n",
    "    print (x)"
   ]
  },
  {
   "cell_type": "markdown",
   "metadata": {},
   "source": [
    "**Exercice 7:**\n",
    "    \n",
    "1. Ecrire un programme qui demande à l'utilisateur de saisir *n* nombres, *n* étant choisi par l'utilisateur, puis d'afficher la moyenne de ces nombres.\n",
    "\n",
    "2. Même question, mais l'utilisateur ne choisit pas à l'avance le nombre *n*, la procédure s'arrête quand il saisit le nombre -1.\n"
   ]
  },
  {
   "cell_type": "code",
   "execution_count": null,
   "metadata": {},
   "outputs": [],
   "source": [
    "n = int(input(\"Entrez un nombre\"))\n",
    "result = 0\n",
    "\n",
    "for i in range (1, n + 1):\n",
    "    result += int(input())\n",
    "result /= n\n",
    "print(\"La moyenne vaut :\", result)"
   ]
  },
  {
   "cell_type": "code",
   "execution_count": null,
   "metadata": {},
   "outputs": [],
   "source": [
    "n = int(input(\"Entrez un nombre\"))\n",
    "somme = 0\n",
    "moyenne = 0\n",
    "\n",
    "for i in range (n):\n",
    "    somme += int(input())\n",
    "moyenne = somme / n\n",
    "print(\"La moyenne vaut :\", moyenne)"
   ]
  },
  {
   "cell_type": "code",
   "execution_count": null,
   "metadata": {},
   "outputs": [],
   "source": [
    "result = 0\n",
    "n = 0 \n",
    "x = 0\n",
    "\n",
    "while n != -1 :\n",
    "    n = int(input())\n",
    "    x += 1\n",
    "    result += n\n",
    "result /= x\n",
    "print(\"La moyenne vaut :\", result)"
   ]
  },
  {
   "cell_type": "markdown",
   "metadata": {},
   "source": [
    "**Exercice 8:**\n",
    "\n",
    "Ecrire un programme qui permet de calculer le factoriel d'un nombre positif donné par l'utlisateur selon la formule suivante : \n",
    "n! = 1 x 2 x ... x n.  \n",
    "\n",
    "1. Une première version en utilisant la boucle *for*\n",
    "2. Une seconde version en utilisant la boucle *while*"
   ]
  },
  {
   "cell_type": "code",
   "execution_count": 14,
   "metadata": {},
   "outputs": [
    {
     "name": "stdout",
     "output_type": "stream",
     "text": [
      "renter un nombre positif\n"
     ]
    }
   ],
   "source": [
    "n = int(input(\"tape un nombre positif\"))\n",
    "a = 1\n",
    "\n",
    "if n <= 0 :\n",
    "    print (\"rentrer un nombre positif\")\n",
    "else :\n",
    "    for i in range (1, n + 1) :\n",
    "        a = a * i \n",
    "    print (\"Le factoriel de n est:\", a)"
   ]
  },
  {
   "cell_type": "code",
   "execution_count": 17,
   "metadata": {},
   "outputs": [
    {
     "name": "stdout",
     "output_type": "stream",
     "text": [
      "rentrer un nombre positif\n"
     ]
    }
   ],
   "source": [
    "n = int(input(\"tape un nombre positif\"))\n",
    "a = 1\n",
    "i = 1\n",
    "\n",
    "if n <= 0 :\n",
    "    print (\"rentrer un nombre positif\")\n",
    "else :\n",
    "    while i <= n :\n",
    "        a = a * i\n",
    "        i += 1\n",
    "    print (\"Le factoriel de n est:\", a)"
   ]
  },
  {
   "cell_type": "markdown",
   "metadata": {
    "slideshow": {
     "slide_type": "slide"
    }
   },
   "source": [
    "---\n",
    "\n",
    "## 3. Pour aller plus loin\n",
    "\n",
    "**Excercice 9:**\n",
    "\n",
    "Ecrire un programme qui permet de connaître le jour de naissance de l'utilisateur en posant cinq questions.\n",
    "Chaque question demande si le jour est dans l'un des cinq ensembles suivants :\n",
    "\n",
    "* Set 1: \\[1 3 5 7 9 11 13 15 17 19 21 23 25 27 29 31\\]\n",
    "* Set 2: \\[2 3 6 7 10 11 14 15 18 19 22 23 26 27 30 31\\]\n",
    "* Set 3: \\[4 5 6 7 12 13 14 15 20 21 22 23 28 29 30 31\\]\n",
    "* Set 4: \\[8 9 10 11 12 13 14 15 24 25 26 27 28 29 30 31\\]\n",
    "* Set 5: \\[16 17 18 19 20 21 22 23 24 25 26 27 28 29 30 31\\]\n",
    "    \n",
    "\n",
    "Le jour de naissance est la somme des premiers nombres dans les ensembles où le jour apparaît. Par exemple,\n",
    "si le jour de naissance est 19, il apparaît dans Set 1, Set 2 et Set 5. Les premiers chiffres de ces trois ensembles sont 1, 2 et 16. Leur somme est 19."
   ]
  },
  {
   "cell_type": "code",
   "execution_count": null,
   "metadata": {
    "slideshow": {
     "slide_type": "notes"
    }
   },
   "outputs": [],
   "source": [
    "n = int(input(\"tape ton jour de naissance\"))\n",
    "somme = 0\n",
    "Set1 = [1, 3, 5, 7, 9, 11, 13, 15, 17, 19, 21, 23, 25, 27, 29, 31]\n",
    "Set2 = [2, 3, 6, 7, 10, 11, 14, 15, 18, 19, 22, 23, 26, 27, 30, 31]\n",
    "Set3 = [4, 5, 6, 7, 12, 13, 14, 15, 20, 21, 22, 23, 28, 29, 30, 31]\n",
    "Set4 = [8, 9, 10, 11, 12, 13, 14, 15, 24, 25, 26, 27, 28, 29, 30, 31]\n",
    "Set5 = [16, 17, 18, 19, 20, 21, 22, 23, 24, 25, 26, 27, 28, 29, 30, 31]\n",
    "\n",
    "if n in Set1 :\n",
    "    somme = somme + 1\n",
    "if n in Set2 :\n",
    "    somme = somme + 2\n",
    "if n in Set3 :\n",
    "    somme = somme + 4\n",
    "if n in Set4 :\n",
    "    somme = somme + 8\n",
    "if n in Set5 :\n",
    "    somme = somme + 16\n",
    "print (\"la somme est:\", somme)\n"
   ]
  },
  {
   "cell_type": "markdown",
   "metadata": {
    "slideshow": {
     "slide_type": "slide"
    }
   },
   "source": [
    "**Excercice 10:**\n",
    "\n",
    "Ecrire un programme qui permet de génèrer de manière aléatoire un nombre à deux chiffres, invite l'utilisateur à saisir un nombre à deux chiffres et détermine si l'utilisateur gagne selon les règles suivantes :\n",
    "* Si l'entrée de l'utilisateur correspond à la loterie (le nombre généré aléatoirement) dans l'ordre exact, la récompense est de 10 000€.\n",
    "* Sinon, si les deux chiffres entrés par l'utilisateur correspondent aux deux chiffres du numéro de loterie, la récompense est de 3 000€.\n",
    "* Sinon, si un chiffre dans l'entrée de l'utilisateur correspond à un chiffre dans le numéro de loterie, la récompense est de 1 000€.\n",
    "\n",
    "**Astuce :** Utiliser la fonction **random.randint(0, 99)** pour génèrer de manière aléatoire un nombre à deux chiffres. Cette fonction doit être accompagné par **import random** comme première instruction dans le code."
   ]
  },
  {
   "cell_type": "code",
   "execution_count": null,
   "metadata": {
    "slideshow": {
     "slide_type": "notes"
    }
   },
   "outputs": [],
   "source": [
    "import random\n",
    "\n",
    "nombre_gagnant = random.randint(1, 99)\n",
    "nombre_gagnant_num1 = int(nombre_gagnant/10)\n",
    "nombre_gagnant_num2 = nombre_gagnant%10\n",
    "n = int(input(\"tapez un nombre entier à deux chiffres\"))\n",
    "num1 = int(n/10)\n",
    "num2 = n%10\n",
    "\n",
    "#if n <1 or 99 < n :\n",
    "#    print (\"Le nombre saisie doit étre compris entre 1 et 99.\")\n",
    "#else : \n",
    "if n == nombre_gagnant :\n",
    "    print (\"Vous avez gagné 10 000€\")\n",
    "elif num1 == nombre_gagnant_num2 and num2 == nombre_gagnant_num1 : \n",
    "    print (\"Vous avez gagné 3 000€\")\n",
    "elif num1 == nombre_gagnant_num1 or num1 == nombre_gagnant_num2 or num2 == nombre_gagnant_num1 or num2 == nombre_gagnant_num2 :\n",
    "    print (\"Vous avez gagné 1 000€\")\n",
    "else :\n",
    "    print (\"Désolé vous navez rien gagnée\")\n",
    "#print (\"Le nombre a trouver était\", nombre_gagnant)"
   ]
  },
  {
   "cell_type": "markdown",
   "metadata": {},
   "source": [
    "**Exercice 11:**\n",
    "    \n",
    "Ecrire un programme qui permet de calculer la somme des chiffres d'un entier *n* donné. Le nombre *n* doit être compris entre 10 et 20 (bornes incluses)."
   ]
  },
  {
   "cell_type": "code",
   "execution_count": null,
   "metadata": {},
   "outputs": [],
   "source": [
    "n = int(input(\"tapez un nombre entier à deux chiffres\"))\n",
    "num1 = int(n/10)\n",
    "num2 = n%10\n",
    "somme = 0\n",
    "\n",
    "if 10 <= n <= 30 :\n",
    "    somme = num1 + num2\n",
    "    print(\"La somme des chiffres de l'entier est :\", somme)"
   ]
  },
  {
   "cell_type": "markdown",
   "metadata": {},
   "source": [
    "**Exercice 12:**\n",
    "\n",
    "1. Ecrire un programme qui permet de générer aléatoirement deux nombres entre 0 et 9, de calculer leurs différences (en valeur absolue), puis d'inviter l'utilisateur à répondre à la question suivante *que vaut abs(number1 - number2)?*. Le programme doit permettre à l'utilisateur de répondre plusieurs fois jusqu'à la saisie de la bonne réponse.\n",
    "2. Modifier le programme précédent de telle sorte qu'il génère cinq occurences à la suite invitant à répondre à la question précédente. A la fin, le programme affiche le nombre moyen de tentatives qu'il a fallu à l'utilisateur pour répondre à une question."
   ]
  },
  {
   "cell_type": "code",
   "execution_count": null,
   "metadata": {
    "tags": []
   },
   "outputs": [],
   "source": [
    "import random\n",
    "\n",
    "number1 = random.randint(1, 9)\n",
    "number2 = random.randint(1, 9)\n",
    "nombre_a_deviner = abs(number1 - number2)\n",
    "reponse_utilisateur = 0\n",
    "\n",
    "while reponse_utilisateur != nombre_a_deviner :\n",
    "    reponse_utilisateur = int(input(\"Entrer un nombre entier entre 1 et 9:\"))\n",
    "    if reponse_utilisateur != nombre_a_deviner :\n",
    "        print(\"Vous n'avez pas trouvé le nombre recherché.\")\n",
    "    else :\n",
    "        print(\"Vous avez trouvé le nombre recherché\")"
   ]
  },
  {
   "cell_type": "code",
   "execution_count": null,
   "metadata": {
    "tags": []
   },
   "outputs": [],
   "source": [
    "\n",
    "import random\n",
    "\n",
    "number1 = random.randint(1, 9)\n",
    "number2 = random.randint(1, 9)\n",
    "nombre_a_deviner = abs(number1 - number2)\n",
    "reponse_utilisateur = 0\n",
    "nombre_de_tentative = 0\n",
    "nombre_de_tentative_OK = 0\n",
    "\n",
    "while nombre_de_tentative_OK != 5 :\n",
    "    reponse_utilisateur = int(input(\"Entrer un nombre entier entre 1 et 9:\"))\n",
    "    nombre_de_tentative += 1\n",
    "    if reponse_utilisateur != nombre_a_deviner :\n",
    "        print(\"Vous n'avez pas trouvé le nombre recherché. Veuillez recommencer\")\n",
    "    elif reponse_utilisateur == nombre_a_deviner :\n",
    "        print(\"Vous avez trouvé le nombre recherché\", nombre_a_deviner, \\\n",
    "              \". Veuillez trouver le nombre suivant\")\n",
    "        nombre_de_tentative_OK += 1\n",
    "        number1 = random.randint(1, 9)\n",
    "        number2 = random.randint(1, 9)\n",
    "        nombre_a_deviner = abs(number1 - number2)\n",
    "\n",
    "print(\"Il te faut en moyenne\", nombre_de_tentative/5, \"tentative pour trouver le nombre\")"
   ]
  },
  {
   "cell_type": "markdown",
   "metadata": {},
   "source": [
    "**Exercice 13:**\n",
    "\n",
    "Ecrire un programme qui permet de calculer le nombre de mots dans une phrase saisie par l'utilisateur."
   ]
  },
  {
   "cell_type": "code",
   "execution_count": 2,
   "metadata": {
    "tags": []
   },
   "outputs": [
    {
     "name": "stdout",
     "output_type": "stream",
     "text": [
      "3\n"
     ]
    }
   ],
   "source": [
    "phrase = input(\"Entrez une phrase : \")\n",
    "cpt = 1\n",
    "\n",
    "for caractere in phrase :\n",
    "    if caractere == \" \" :\n",
    "        cpt += 1\n",
    "print (cpt)"
   ]
  },
  {
   "cell_type": "markdown",
   "metadata": {
    "slideshow": {
     "slide_type": "slide"
    }
   },
   "source": [
    "---\n",
    "\n",
    "## 4. Pour s'entraîner\n",
    "\n",
    "**Exercice 14:**\n",
    "    \n",
    "Soit la variable my_input = \"zoophysiology\". Ecrire un script qui permet d'afficher l'un des messages suivants en fonction du nombre maximum de *o* consécutifs dans la variable *my_input*. Par exemple, le script doit afficher \"I like studying birds! I want to become an ornithologist!\" parce qu'il y a deux *o* consécutifs, même s'il y a aussi des *o* individual.\n",
    "Ignorer les *o* majuscules - recherchez que les *o* minuscules.\n",
    "\n",
    "* Si \"o\" apparaît trois fois ou plus de suite, afficher le message \"I like going to the zoo!\"  \n",
    "* Si \"o\" apparaît deux fois, afficher le message \"I like studying birds! I want to become an ornithologist!\"  \n",
    "* Si \"o\" apparaît une seule fois, afficher le message \"I like studying fish! I want to become an ichthyologist!\"  \n",
    "* Si \"o\" n'apparaît pas dans la variable *my_input*, afficher le message \"I miss going to the zoo!\"  \n",
    "\n",
    "**Astuce :** Utiliser l'opérateur **in** qui renvoie **True** si la première chaîne se trouve dans la deuxième chaîne. "
   ]
  },
  {
   "cell_type": "code",
   "execution_count": null,
   "metadata": {
    "slideshow": {
     "slide_type": "notes"
    }
   },
   "outputs": [],
   "source": [
    "my_input = \"zoophysiology\"\n",
    "\n",
    "if \"ooo\" in my_input :\n",
    "    print (\"I like going to the zoo!\")\n",
    "elif \"oo\" in my_input :\n",
    "    print (\"I like studying birds! I want to become an ornithologist!\")\n",
    "elif \"o\" in my_input :\n",
    "    print (\"I like studying fish! I want to become an ichthyologist!\")\n",
    "else :\n",
    "    print (\"I miss going to the zoo!\")"
   ]
  },
  {
   "cell_type": "markdown",
   "metadata": {
    "slideshow": {
     "slide_type": "slide"
    }
   },
   "source": [
    "**Exercice 15:**\n",
    "    \n",
    "Créer quatre variables nommées *team_1* et *team_2*, représentant deux noms d'équipes, et *team_1_score* et *team_2_score*, représentant les scores de ces deux équipes. \n",
    "Une équipe gagne si son score est supérieur à l'autre score de l'autre équipe.\n",
    " \n",
    "Ecrire un premier script qui permet d'afficher les messages suivants selon les valeurs entrées, ceci en utilisant seulement les quatres variables créées :\n",
    "* Si une équipe bat l'autre, affichez: \"\\[winner\\] beat \\[loser\\] by \\[margin\\]\"\n",
    "* Si aucune des équipes n'a gagné, affichez: \"\\[team_1\\] played \\[team_2\\] and it was a tie\"\n",
    "\n",
    "Ecrire un deuxième script qui permet d'afficher les mêmes messages mais en ajoutant trois variables de plus :\n",
    "* La variable *winner* pour définir l'équipe gagnante  \n",
    "* La variable *loser* pour définier l'équipe perdante  \n",
    "* La variable *margin* pour définir la différence entre les deux scores \n"
   ]
  },
  {
   "cell_type": "code",
   "execution_count": null,
   "metadata": {
    "slideshow": {
     "slide_type": "notes"
    }
   },
   "outputs": [],
   "source": [
    "team_1 = \"leakers\"\n",
    "team_2 = \"bulls\"\n",
    "team_1_score = 20\n",
    "team_2_score = 10\n",
    "\n",
    "if team_1_score > team_2_score :\n",
    "    winner = team_1\n",
    "    loser = team_2\n",
    "    margin = team_1_score - team_2_score\n",
    "    print (winner, \"beat\", loser,\"by\", margin, \"points.\")\n",
    "elif team_2_score > team_1_score :\n",
    "    winner = team_2\n",
    "    loser = team_1\n",
    "    margin = team_2_score - team_1_score\n",
    "    print (winner, \"beat\", loser,\"by\", margin)\n",
    "else :\n",
    "    print (team_1, \"played\", team_2, \"and it was a tie.\")"
   ]
  },
  {
   "cell_type": "markdown",
   "metadata": {
    "slideshow": {
     "slide_type": "slide"
    }
   },
   "source": [
    "**Exercice 16:**\n",
    "    \n",
    "L'Indice de Masse Corporelle (IMC) permet d'estimer le poids idéal en fonction de la taille. Son calcul correspond au poids en kilogrammes divisé par le carré de la taille en mètre (IMC = poids en kg/taille² en m). Le chiffre obtenu permet d'estimer la corpulence et éventuellement le surpoids ou l'obésité chez l'adulte, homme ou femme.\n",
    "L'interprétation de l'IMC pour les personnes de 16 ans et plus est la suivante :\n",
    "* Moins de 18.5: Underweight\n",
    "* Entre 18.5 et 24.9: Normal\n",
    "* Entre 25.0 et 29.9: Overweight\n",
    "* Plus que 30.0: Obese\n",
    "\n",
    "Ecrire un programme qui permet de saisir un poids en *pounds* et une taille en *inches*, de calculer et d'afficher l'IMC à deux valeurs après la virgule, et d'afficher l'interprétation la plus adéquate. Notez qu'un *pound* équivaut à 0,45359237 kilogrammes et qu'un *inch* équivaut à 0,0254 mètre.  \n",
    "\n",
    "**Astuce :** Pour afficher deux valeurs après la virgule, utilisez la fonction **format(nom_variable, \".2f\")**. Exemple : **print('La moyenne est :', format(moyenne, \".2f\"))**"
   ]
  },
  {
   "cell_type": "code",
   "execution_count": null,
   "metadata": {
    "slideshow": {
     "slide_type": "notes"
    }
   },
   "outputs": [],
   "source": [
    "poids_en_kilogramme = int(input(\"Entre ton poids en pounds: \")) * 0.45359237\n",
    "taille_en_mètre = int(input(\"Entre ta taille en inchs: \")) * 0.0254\n",
    "indice_de_masse_corporelle = poids_en_kilogramme/taille_en_mètre ** 2\n",
    "\n",
    "print(\"Ton IMC est de:\", format(indice_de_masse_corporelle, \".2f\"))\n",
    "if indice_de_masse_corporelle < 18.5 :\n",
    "    print (\"Underweight: Tu es en sous-poids.\")\n",
    "elif 18.5 < indice_de_masse_corporelle < 24.9 :\n",
    "    print (\"Normal: Tu as une corpulence normal.\")\n",
    "elif 25.0 < indice_de_masse_corporelle < 29.9 : \n",
    "    print (\"Overweight: Tu es en surpoids.\")\n",
    "elif 30.0 < indice_de_masse_corporelle :\n",
    "    print (\"Obese: Tu es obèse.\")"
   ]
  },
  {
   "cell_type": "markdown",
   "metadata": {},
   "source": [
    "**Exercice 17:**\n",
    "\n",
    "Ecrire un programme qui affiche un triangle d'étoiles de taille donnée, par exemple si on entre 6, le programme affiche:\n",
    "```\n",
    "*\n",
    "**\n",
    "***\n",
    "****\n",
    "*****\n",
    "******\n",
    "```"
   ]
  },
  {
   "cell_type": "code",
   "execution_count": 3,
   "metadata": {
    "tags": []
   },
   "outputs": [
    {
     "name": "stdout",
     "output_type": "stream",
     "text": [
      "*\n",
      "**\n"
     ]
    }
   ],
   "source": [
    "etoile = int(input())\n",
    "\n",
    "for i in range (1, etoile + 1) :\n",
    "    print (\"*\"*i)"
   ]
  },
  {
   "cell_type": "markdown",
   "metadata": {},
   "source": [
    "**Exercice 18:**\n",
    "\n",
    "Même exercice mais cette fois la sortie est\n",
    "```\n",
    "     *\n",
    "    **         \n",
    "   ***\n",
    "  ****\n",
    " *****\n",
    "******\n",
    "```"
   ]
  },
  {
   "cell_type": "code",
   "execution_count": 4,
   "metadata": {
    "tags": []
   },
   "outputs": [
    {
     "name": "stdout",
     "output_type": "stream",
     "text": [
      " *\n",
      "**\n"
     ]
    }
   ],
   "source": [
    "etoile = int(input())\n",
    "\n",
    "for i in range (1, etoile + 1) :\n",
    "    print (\" \"*(etoile-i)+\"*\"*i)"
   ]
  },
  {
   "cell_type": "markdown",
   "metadata": {},
   "source": [
    "**Exercice 19:**\n",
    "\n",
    "Ecrire un programme qui calcule, étant donné un entier *n* rentré par l'utilisateur, la plus grande puissance de *n* inférieure à un million."
   ]
  },
  {
   "cell_type": "code",
   "execution_count": null,
   "metadata": {
    "tags": []
   },
   "outputs": [],
   "source": [
    "n = int(input(\"Entrer un nombre entier supérieur à 1:\"))\n",
    "x = 0\n",
    "\n",
    "if n <= 1 :\n",
    "    print (\"Le nombre saisie doit ètre supérieur à 1.\") \n",
    "else :\n",
    "    while n ** x <= 1000000 :\n",
    "        x += 1\n",
    "    print (\"la plus grand puissance de\", n, \"inferieur à 1 000 000 est:\", x - 1)"
   ]
  }
 ],
 "metadata": {
  "celltoolbar": "Diaporama",
  "kernelspec": {
   "display_name": "Python 3",
   "language": "python",
   "name": "python3"
  },
  "language_info": {
   "codemirror_mode": {
    "name": "ipython",
    "version": 3
   },
   "file_extension": ".py",
   "mimetype": "text/x-python",
   "name": "python",
   "nbconvert_exporter": "python",
   "pygments_lexer": "ipython3",
   "version": "3.11.5"
  }
 },
 "nbformat": 4,
 "nbformat_minor": 4
}
